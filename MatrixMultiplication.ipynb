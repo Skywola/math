{
 "cells": [
  {
   "cell_type": "code",
   "execution_count": 2,
   "metadata": {},
   "outputs": [
    {
     "data": {
      "text/latex": [
       "$\\displaystyle \\begin{bmatrix} 1_{a00} & 2_{a01} \\\\ 3_{a10} & 4_{a11}\\\\ 5_{a20} & 6_{a21} \\end{bmatrix}* \\begin{bmatrix} 1_{b00} & 3_{b01} & 5_{b02} \\\\ 2_{b10} & 4_{b11} & 6_{b12} \\end{bmatrix}$"
      ],
      "text/plain": [
       "<IPython.core.display.Math object>"
      ]
     },
     "metadata": {},
     "output_type": "display_data"
    },
    {
     "data": {
      "text/latex": [
       "$\\displaystyle Formula \\quad C_{i,j} = \\sum_{k=0}^k A_{i,k}B_{k,j}$"
      ],
      "text/plain": [
       "<IPython.core.display.Math object>"
      ]
     },
     "metadata": {},
     "output_type": "display_data"
    },
    {
     "data": {
      "text/latex": [
       "$\\displaystyle C_{ij} \\text{ of the product is obtained by multiplying term-by-term the entries of the}$"
      ],
      "text/plain": [
       "<IPython.core.display.Math object>"
      ]
     },
     "metadata": {},
     "output_type": "display_data"
    },
    {
     "data": {
      "text/latex": [
       "$\\displaystyle  \\text{ith row of A and the jth column of B and summing these n products.}$"
      ],
      "text/plain": [
       "<IPython.core.display.Math object>"
      ]
     },
     "metadata": {},
     "output_type": "display_data"
    },
    {
     "data": {
      "text/latex": [
       "$\\displaystyle \\text{In other words, }C_{ij}\\text{ is the dot product of row i of A and column j of B.}$"
      ],
      "text/plain": [
       "<IPython.core.display.Math object>"
      ]
     },
     "metadata": {},
     "output_type": "display_data"
    },
    {
     "name": "stdout",
     "output_type": "stream",
     "text": [
      "3\n"
     ]
    },
    {
     "data": {
      "text/latex": [
       "$\\displaystyle C_{0,0} = \\sum_{0}^k A_{0,k} B_{k,0} = dot(\\text{row i }[1 2] , \\text{column j }[1 2])= 1 * 1 + 2 * 2= 5 $"
      ],
      "text/plain": [
       "<IPython.core.display.Math object>"
      ]
     },
     "metadata": {},
     "output_type": "display_data"
    },
    {
     "data": {
      "text/latex": [
       "$\\displaystyle C_{1,0} = \\sum_{1}^k A_{1,k} B_{k,0} = dot(\\text{row i }[3 4] , \\text{column j }[1 2])= 3 * 1 + 4 * 2= 11 $"
      ],
      "text/plain": [
       "<IPython.core.display.Math object>"
      ]
     },
     "metadata": {},
     "output_type": "display_data"
    },
    {
     "data": {
      "text/latex": [
       "$\\displaystyle C_{2,0} = \\sum_{0}^k A_{2,k} B_{k,0} = dot(\\text{row i }[5 6] , \\text{column j }[1 2])= 5 * 1 + 6 * 2= 17 $"
      ],
      "text/plain": [
       "<IPython.core.display.Math object>"
      ]
     },
     "metadata": {},
     "output_type": "display_data"
    },
    {
     "data": {
      "text/latex": [
       "$\\displaystyle C_{0,1} = \\sum_{1}^k A_{0,k} B_{k,1} = dot(\\text{row i }[1 2] , \\text{column j }[3 4])= 1 * 3 + 2 * 4= 11 $"
      ],
      "text/plain": [
       "<IPython.core.display.Math object>"
      ]
     },
     "metadata": {},
     "output_type": "display_data"
    },
    {
     "data": {
      "text/latex": [
       "$\\displaystyle C_{1,1} = \\sum_{0}^k A_{1,k} B_{k,1} = dot(\\text{row i }[3 4] , \\text{column j }[3 4])= 3 * 3 + 4 * 4= 25 $"
      ],
      "text/plain": [
       "<IPython.core.display.Math object>"
      ]
     },
     "metadata": {},
     "output_type": "display_data"
    },
    {
     "data": {
      "text/latex": [
       "$\\displaystyle C_{2,1} = \\sum_{1}^k A_{2,k} B_{k,1} = dot(\\text{row i }[5 6] , \\text{column j }[3 4])= 5 * 3 + 6 * 4= 39 $"
      ],
      "text/plain": [
       "<IPython.core.display.Math object>"
      ]
     },
     "metadata": {},
     "output_type": "display_data"
    },
    {
     "data": {
      "text/latex": [
       "$\\displaystyle C_{0,2} = \\sum_{0}^k A_{0,k} B_{k,2} = dot(\\text{row i }[1 2] , \\text{column j }[5 6])= 1 * 5 + 2 * 6= 17 $"
      ],
      "text/plain": [
       "<IPython.core.display.Math object>"
      ]
     },
     "metadata": {},
     "output_type": "display_data"
    },
    {
     "data": {
      "text/latex": [
       "$\\displaystyle C_{1,2} = \\sum_{1}^k A_{1,k} B_{k,2} = dot(\\text{row i }[3 4] , \\text{column j }[5 6])= 3 * 5 + 4 * 6= 39 $"
      ],
      "text/plain": [
       "<IPython.core.display.Math object>"
      ]
     },
     "metadata": {},
     "output_type": "display_data"
    },
    {
     "data": {
      "text/latex": [
       "$\\displaystyle C_{2,2} = \\sum_{0}^k A_{2,k} B_{k,2} = dot(\\text{row i }[5 6] , \\text{column j }[5 6])= 5 * 5 + 6 * 6= 61 $"
      ],
      "text/plain": [
       "<IPython.core.display.Math object>"
      ]
     },
     "metadata": {},
     "output_type": "display_data"
    }
   ],
   "source": [
    "# Matrix Multiplication Detailed\n",
    "from IPython.display import display,Math\n",
    "import matplotlib.pyplot as plt\n",
    "import numpy as np\n",
    "import sympy as sym\n",
    "\n",
    " \n",
    "A = '\\\\begin{bmatrix} 1_{a00} & 2_{a01} \\\\\\ 3_{a10} & 4_{a11}\\\\\\ 5_{a20} & 6_{a21} \\\\end{bmatrix}'\n",
    "B = '* \\\\begin{bmatrix} 1_{b00} & 3_{b01} & 5_{b02} \\\\\\ 2_{b10} & 4_{b11} & 6_{b12} \\\\end{bmatrix}'\n",
    "display(Math(sym.latex(A + B)))\n",
    "    \n",
    "k = 0;  i=1;   j=1\n",
    "A = np.array([ [1,2],\n",
    "               [3,4], \n",
    "               [5,6] ])     # [3,2]  3 X 2   3 rows, 2 columns\n",
    "               \n",
    "B = np.array([ [1,3,5],\n",
    "               [2,4,6] ])   # [2,3]  2 X 3   2 rows, 3 columns\n",
    "\n",
    "\n",
    "sizeA0 = np.shape(A)[0] # Resulting matrix should be of the \n",
    "sizeB1 = np.shape(B)[1] # outside dimensions A[0] X B[1]\n",
    "C = np.zeros([sizeA0,sizeB1])  # that is, [3 X 2]\n",
    "\n",
    "L1 = 'Formula \\\\quad C_{i,j} = \\sum_{k=0}^k A_{i,k}B_{k,j}'\n",
    "display(Math(sym.latex(L1)))\n",
    "L2 = 'C_{ij} \\\\text{ of the product is obtained by multiplying term-by-term the entries of the}'\n",
    "display(Math(sym.latex(L2)))\n",
    "L3 = ' \\\\text{ith row of A and the jth column of B and summing these n products.}'\n",
    "display(Math(sym.latex(L3)))\n",
    "L4 = '\\\\text{In other words, }C_{ij}\\\\text{ is the dot product of row i of A and column j of B.}'\n",
    "display(Math(sym.latex(L4)))\n",
    "    \n",
    "\n",
    "def displaySteps(A,B,k=0,i=0,j=-1):\n",
    "    # get matrix sizes\n",
    "    szA = np.shape(A)\n",
    "    szB = np.shape(B)\n",
    "    C = np.zeros((szA[0],szB[1]))\n",
    "    print((szA[0]))\n",
    "    \n",
    "    # give error if sizes don't match\n",
    "    k = True\n",
    "    if szA[1]!=szB[0]:\n",
    "        raise ValueError('\"Inner\" dimensions don''t match!')\n",
    "    for j in range(0,szA[0]):\n",
    "        for i in range(0,szB[1]):\n",
    "            k = int(not k)\n",
    "            C[i,j] = np.dot(A[i,:],B[:,j])\n",
    "            L1 = 'C_{%g,%g} = \\sum_{%g}^k A_{%g,k} B_{k,%g} = ' %(i,j,k,i,j)\n",
    "            L2 = 'dot(\\\\text{row i }%s , \\\\text{column j }%s)= ' %(A[i,:],B[:,j])\n",
    "            L3 = '%g * %g + %g * %g= %g ' %(A[i,:][0],B[:,j][0],A[i,:][1],B[:,j][1],C[i][j])\n",
    "            display(Math(sym.latex(L1 + L2 + L3)))\n",
    "            \n",
    "displaySteps(A,B)"
   ]
  },
  {
   "cell_type": "code",
   "execution_count": null,
   "metadata": {},
   "outputs": [],
   "source": []
  }
 ],
 "metadata": {
  "kernelspec": {
   "display_name": "Python 3",
   "language": "python",
   "name": "python3"
  },
  "language_info": {
   "codemirror_mode": {
    "name": "ipython",
    "version": 3
   },
   "file_extension": ".py",
   "mimetype": "text/x-python",
   "name": "python",
   "nbconvert_exporter": "python",
   "pygments_lexer": "ipython3",
   "version": "3.7.4"
  }
 },
 "nbformat": 4,
 "nbformat_minor": 2
}
